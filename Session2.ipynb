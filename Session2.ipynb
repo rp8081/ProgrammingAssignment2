{
  "nbformat": 4,
  "nbformat_minor": 0,
  "metadata": {
    "colab": {
      "name": "Session2.ipynb",
      "version": "0.3.2",
      "provenance": [],
      "collapsed_sections": [],
      "include_colab_link": true
    },
    "kernelspec": {
      "name": "python3",
      "display_name": "Python 3"
    },
    "accelerator": "GPU"
  },
  "cells": [
    {
      "cell_type": "markdown",
      "metadata": {
        "id": "view-in-github",
        "colab_type": "text"
      },
      "source": [
        "<a href=\"https://colab.research.google.com/github/rp8081/ProgrammingAssignment2/blob/master/Session2.ipynb\" target=\"_parent\"><img src=\"https://colab.research.google.com/assets/colab-badge.svg\" alt=\"Open In Colab\"/></a>"
      ]
    },
    {
      "cell_type": "markdown",
      "metadata": {
        "id": "-nJ7YEw_vyjG",
        "colab_type": "text"
      },
      "source": [
        "# **Not an ideal network**"
      ]
    },
    {
      "cell_type": "code",
      "metadata": {
        "id": "kGWv5hBhv2jf",
        "colab_type": "code",
        "colab": {}
      },
      "source": [
        "# https://keras.io/\n",
        "!pip install -q keras\n",
        "import keras"
      ],
      "execution_count": 0,
      "outputs": []
    },
    {
      "cell_type": "code",
      "metadata": {
        "id": "wnMlDJQKv4VG",
        "colab_type": "code",
        "colab": {}
      },
      "source": [
        "### Import required libraries \n",
        "import numpy as np\n",
        "\n",
        "from keras.models import Sequential\n",
        "from keras.layers import Flatten\n",
        "from keras.layers import Convolution2D\n",
        "from keras.utils import np_utils\n",
        "\n",
        "from keras.datasets import mnist"
      ],
      "execution_count": 0,
      "outputs": []
    },
    {
      "cell_type": "code",
      "metadata": {
        "id": "8CdSu2lMwB9s",
        "colab_type": "code",
        "colab": {}
      },
      "source": [
        "### Import MNIST Dataset\n",
        "(X_train, y_train), (X_test, y_test) = mnist.load_data()"
      ],
      "execution_count": 0,
      "outputs": []
    },
    {
      "cell_type": "code",
      "metadata": {
        "id": "tLaDf0-rwCmj",
        "colab_type": "code",
        "colab": {}
      },
      "source": [
        "### Printing number of images in train dataset and plot an example\n",
        "print (X_train.shape)\n",
        "from matplotlib import pyplot as plt\n",
        "%matplotlib inline\n",
        "plt.imshow(X_train[0])"
      ],
      "execution_count": 0,
      "outputs": []
    },
    {
      "cell_type": "code",
      "metadata": {
        "id": "erb11jNwwFwl",
        "colab_type": "code",
        "colab": {}
      },
      "source": [
        "### Reshaping train and test dataset\n",
        "X_train = X_train.reshape(X_train.shape[0], 28, 28,1)\n",
        "X_test = X_test.reshape(X_test.shape[0], 28, 28,1)"
      ],
      "execution_count": 0,
      "outputs": []
    },
    {
      "cell_type": "code",
      "metadata": {
        "id": "RLK4YDoRwHet",
        "colab_type": "code",
        "colab": {}
      },
      "source": [
        "## Normalizing the image\n",
        "X_train = X_train.astype('float32')\n",
        "X_test = X_test.astype('float32')\n",
        "X_train /= 255\n",
        "X_test /= 255"
      ],
      "execution_count": 0,
      "outputs": []
    },
    {
      "cell_type": "code",
      "metadata": {
        "id": "JNKLOmhlwJQl",
        "colab_type": "code",
        "colab": {}
      },
      "source": [
        "## Label of first 10 images\n",
        "y_train[:10]"
      ],
      "execution_count": 0,
      "outputs": []
    },
    {
      "cell_type": "code",
      "metadata": {
        "id": "YusMJguiwKsM",
        "colab_type": "code",
        "colab": {}
      },
      "source": [
        "# Convert 1-dimensional class arrays to 10-dimensional class matrices\n",
        "Y_train = np_utils.to_categorical(y_train, 10)\n",
        "Y_test = np_utils.to_categorical(y_test, 10)"
      ],
      "execution_count": 0,
      "outputs": []
    },
    {
      "cell_type": "code",
      "metadata": {
        "id": "upxc99AswMW0",
        "colab_type": "code",
        "colab": {}
      },
      "source": [
        "## Print 10-dimensional class matrices of first 10 labels\n",
        "Y_train[:10]\n"
      ],
      "execution_count": 0,
      "outputs": []
    },
    {
      "cell_type": "code",
      "metadata": {
        "id": "irTVUE47wNwr",
        "colab_type": "code",
        "colab": {}
      },
      "source": [
        "## Defining CNN architecture\n",
        "from keras.layers import Activation, MaxPooling2D\n",
        "\n",
        "model = Sequential() \n",
        "model.add(Convolution2D(32, 3, 3, activation='relu', input_shape=(28,28,1)))\n",
        "model.add(Convolution2D(64, 3, 3, activation='relu'))\n",
        "model.add(Convolution2D(128, 3, 3, activation='relu'))\n",
        "\n",
        "model.add(MaxPooling2D(pool_size=(2, 2)))\n",
        "\n",
        "model.add(Convolution2D(256, 3, 3, activation='relu'))\n",
        "model.add(Convolution2D(512, 3, 3, activation='relu'))\n",
        "model.add(Convolution2D(1024, 3, 3, activation='relu'))\n",
        "model.add(Convolution2D(2048, 3, 3, activation='relu'))\n",
        "model.add(Convolution2D(10, 3, 3, activation='relu'))\n",
        "\n",
        "model.add(Flatten())\n",
        "model.add(Activation('softmax'))\n",
        "\n",
        "model.summary()"
      ],
      "execution_count": 0,
      "outputs": []
    },
    {
      "cell_type": "code",
      "metadata": {
        "id": "VYZOpRb6yG7_",
        "colab_type": "code",
        "colab": {}
      },
      "source": [
        "## Compile the model\n",
        "model.compile(loss='categorical_crossentropy',\n",
        "             optimizer='adam',\n",
        "             metrics=['accuracy'])"
      ],
      "execution_count": 0,
      "outputs": []
    },
    {
      "cell_type": "code",
      "metadata": {
        "id": "5O248wVQyMft",
        "colab_type": "code",
        "colab": {}
      },
      "source": [
        "## Fitting the model with #epoch=10 and batch size=32\n",
        "model.fit(X_train, Y_train, batch_size=32, nb_epoch=10, verbose=1)"
      ],
      "execution_count": 0,
      "outputs": []
    },
    {
      "cell_type": "code",
      "metadata": {
        "id": "Sst4KneiyOL5",
        "colab_type": "code",
        "colab": {}
      },
      "source": [
        "## evaluate test data set (a ccuracy & model loss)\n",
        "score = model.evaluate(X_test, Y_test, verbose=0)"
      ],
      "execution_count": 0,
      "outputs": []
    },
    {
      "cell_type": "code",
      "metadata": {
        "id": "CfJiXOKsyj4y",
        "colab_type": "code",
        "colab": {}
      },
      "source": [
        "## Print score\n",
        "print(score)"
      ],
      "execution_count": 0,
      "outputs": []
    },
    {
      "cell_type": "code",
      "metadata": {
        "id": "hwLSXt7nyn_0",
        "colab_type": "code",
        "colab": {}
      },
      "source": [
        "### Make prediction on test data set\n",
        "y_pred = model.predict(X_test)"
      ],
      "execution_count": 0,
      "outputs": []
    },
    {
      "cell_type": "code",
      "metadata": {
        "id": "WWKKoOKwyppN",
        "colab_type": "code",
        "colab": {}
      },
      "source": [
        "### Compare first 10 actual and prediction (from test data set)\n",
        "print(y_pred[:9])\n",
        "print(y_test[:9])"
      ],
      "execution_count": 0,
      "outputs": []
    },
    {
      "cell_type": "markdown",
      "metadata": {
        "id": "iVdmZ0Dmui4p",
        "colab_type": "text"
      },
      "source": [
        ""
      ]
    },
    {
      "cell_type": "markdown",
      "metadata": {
        "id": "c9pFt39jujJ3",
        "colab_type": "text"
      },
      "source": [
        ""
      ]
    },
    {
      "cell_type": "markdown",
      "metadata": {
        "id": "SUUnDxL2ujgX",
        "colab_type": "text"
      },
      "source": [
        ""
      ]
    },
    {
      "cell_type": "code",
      "metadata": {
        "id": "GhsEEq9qulAz",
        "colab_type": "code",
        "colab": {}
      },
      "source": [
        "## model1 :- changing cnn layers (after maxpool2d) to 32,64.128,256\n",
        "\n",
        "from keras.layers import Activation, MaxPooling2D\n",
        "from keras.layers import Activation, Flatten, Dense, Dropout\n",
        "\n",
        "model1 = Sequential() \n",
        "model1.add(Convolution2D(32, 3, 3, activation='relu', input_shape=(28,28,1)))\n",
        "model1.add(Convolution2D(64, 3, 3, activation='relu'))\n",
        "model1.add(Convolution2D(128, 3, 3, activation='relu'))\n",
        "\n",
        "model1.add(MaxPooling2D(pool_size=(2, 2)))\n",
        "\n",
        "model1.add(Convolution2D(32, 3, 3, activation='relu'))\n",
        "model1.add(Convolution2D(64, 3, 3, activation='relu'))\n",
        "model1.add(Convolution2D(128, 3, 3, activation='relu'))\n",
        "model1.add(Convolution2D(256, 3, 3, activation='relu'))\n",
        "model1.add(Convolution2D(10, 3, 3, activation='relu'))\n",
        "\n",
        "model1.add(Flatten())\n",
        "# model1.add(Dense(10))\n",
        "model1.add(Activation('softmax'))\n",
        "\n",
        "model1.summary()\n",
        "model1.compile(loss='categorical_crossentropy',\n",
        "             optimizer='adam',\n",
        "             metrics=['accuracy'])\n",
        "\n",
        "model1.fit(X_train, Y_train, batch_size=32, nb_epoch=10, verbose=1)\n",
        "\n",
        "## evaluate test data set (a ccuracy & model1 loss)\n",
        "print(model1.evaluate(X_test, Y_test, verbose=0))"
      ],
      "execution_count": 0,
      "outputs": []
    },
    {
      "cell_type": "code",
      "metadata": {
        "id": "dc3izKllu8Ba",
        "colab_type": "code",
        "colab": {}
      },
      "source": [
        "## model2 - Adding dense layer in model1\n",
        "from keras.layers import Activation, MaxPooling2D\n",
        "from keras.layers import Activation, Flatten, Dense, Dropout\n",
        "\n",
        "model2 = Sequential() \n",
        "model2.add(Convolution2D(32, 3, 3, activation='relu', input_shape=(28,28,1)))\n",
        "model2.add(Convolution2D(64, 3, 3, activation='relu'))\n",
        "model2.add(Convolution2D(128, 3, 3, activation='relu'))\n",
        "\n",
        "model2.add(MaxPooling2D(pool_size=(2, 2)))\n",
        "\n",
        "model2.add(Convolution2D(32, 3, 3, activation='relu'))\n",
        "model2.add(Convolution2D(64, 3, 3, activation='relu'))\n",
        "model2.add(Convolution2D(128, 3, 3, activation='relu'))\n",
        "model2.add(Convolution2D(256, 3, 3, activation='relu'))\n",
        "model2.add(Convolution2D(10, 3, 3, activation='relu'))\n",
        "\n",
        "model2.add(Flatten())\n",
        "model2.add(Dense(10))\n",
        "model2.add(Activation('softmax'))\n",
        "\n",
        "model2.summary()\n",
        "model2.compile(loss='categorical_crossentropy',\n",
        "             optimizer='adam',\n",
        "             metrics=['accuracy'])\n",
        "\n",
        "model2.fit(X_train, Y_train, batch_size=32, nb_epoch=10, verbose=1)\n",
        "\n",
        "## evaluate test data set (a ccuracy & model1 loss)\n",
        "print(model2.evaluate(X_test, Y_test, verbose=0))"
      ],
      "execution_count": 0,
      "outputs": []
    },
    {
      "cell_type": "code",
      "metadata": {
        "id": "16viTT_9vTcN",
        "colab_type": "code",
        "colab": {}
      },
      "source": [
        "## model3 - adding dense layer in original architecture\n",
        "from keras.layers import Activation, MaxPooling2D\n",
        "\n",
        "model3 = Sequential() \n",
        "model3.add(Convolution2D(32, 3, 3, activation='relu', input_shape=(28,28,1)))\n",
        "model3.add(Convolution2D(64, 3, 3, activation='relu'))\n",
        "model3.add(Convolution2D(128, 3, 3, activation='relu'))\n",
        "\n",
        "model3.add(MaxPooling2D(pool_size=(2, 2)))\n",
        "\n",
        "model3.add(Convolution2D(256, 3, 3, activation='relu'))\n",
        "model3.add(Convolution2D(512, 3, 3, activation='relu'))\n",
        "model3.add(Convolution2D(1024, 3, 3, activation='relu'))\n",
        "model3.add(Convolution2D(2048, 3, 3, activation='relu'))\n",
        "model3.add(Convolution2D(10, 3, 3, activation='relu'))\n",
        "\n",
        "model3.add(Flatten())\n",
        "model3.add(Dense(10))\n",
        "model3.add(Activation('softmax'))\n",
        "\n",
        "model3.summary()\n",
        "\n",
        "model3.summary()\n",
        "model3.compile(loss='categorical_crossentropy',\n",
        "             optimizer='adam',\n",
        "             metrics=['accuracy'])\n",
        "\n",
        "model3.fit(X_train, Y_train, batch_size=32, nb_epoch=10, verbose=1)"
      ],
      "execution_count": 0,
      "outputs": []
    }
  ]
}